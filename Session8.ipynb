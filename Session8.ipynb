{
  "nbformat": 4,
  "nbformat_minor": 0,
  "metadata": {
    "colab": {
      "provenance": [],
      "authorship_tag": "ABX9TyMBIsN0TAWRBMxxxrTH2Uuy",
      "include_colab_link": true
    },
    "kernelspec": {
      "name": "python3",
      "display_name": "Python 3"
    },
    "language_info": {
      "name": "python"
    }
  },
  "cells": [
    {
      "cell_type": "markdown",
      "metadata": {
        "id": "view-in-github",
        "colab_type": "text"
      },
      "source": [
        "<a href=\"https://colab.research.google.com/github/AmanYadavKHD/Machine-Learning/blob/main/Session8.ipynb\" target=\"_parent\"><img src=\"https://colab.research.google.com/assets/colab-badge.svg\" alt=\"Open In Colab\"/></a>"
      ]
    },
    {
      "cell_type": "markdown",
      "source": [
        "Write OOP classes to handle the following scenarios:\n",
        "\n",
        "\n",
        "1.  A user can create and view 2D coordinates\n",
        "2.  A user can find out the distance between 2 coordinates\n",
        "3.  A user can find find the distance of a coordinate from origin\n",
        "4.  A user can check if a point lies on a given line\n",
        "5.  A user can find the distance between a given 2D point and a given line."
      ],
      "metadata": {
        "id": "NTRDx5sOcr4y"
      }
    },
    {
      "cell_type": "code",
      "execution_count": 31,
      "metadata": {
        "id": "MRwbXUCnoYQ9"
      },
      "outputs": [],
      "source": [
        "class Point:\n",
        "  #constructor\n",
        "  def __init__(self,x,y):\n",
        "    self.x_cod = x\n",
        "    self.y_cod =y\n",
        "  def __str__(self):\n",
        "    return '<{},{}>'.format(self.x_cod,self.y_cod)\n",
        "  def euclidean_distance(self,other):\n",
        "    return ((self.x_cod-other.x_cod)**2 + (self.y_cod-other.y_cod)**2)**0.5\n",
        "  def distance_from_origin(self):\n",
        "    return self.euclidean_distance(Point(0,0))\n",
        "\n",
        "\n",
        "class Line:\n",
        "  #constructor\n",
        "  def __init__(self,A,B,C):\n",
        "    self.A=A\n",
        "    self.B=B\n",
        "    self.C=C\n",
        "\n",
        "  def __str__(self):\n",
        "    return '{}x+{}y+{}=0'.format(self.A,self.B,self.C)\n",
        "\n",
        "  def point_on_line(line,point):\n",
        "    if line.A*point.x_cod + line.B*point.y_cod +line.C==0:\n",
        "      return 'lies on line'\n",
        "    else :\n",
        "      return 'does not lie on the line'\n",
        "  def shortest_distance(line,point):\n",
        "    return (abs(line.A*point.x_cod + line.B*point.y_cod +line.C)/(line.A**2 +line.B**2))**0.5"
      ]
    },
    {
      "cell_type": "code",
      "source": [
        "p1 = Point(0,0)\n",
        "p2 = Point(10,10)\n",
        "print(p1)\n",
        "print(p2)\n",
        "print(p1.euclidean_distance(p2))\n",
        "print(p2.distance_from_origin())\n",
        "l1 = Line(1,1,-2)\n",
        "print(l1)\n",
        "p3= Point(1,1)\n",
        "print(p3)\n",
        "print(l1.point_on_line(p3))\n",
        "print(l1.point_on_line(p2))\n",
        "print(l1.point_on_line(p1))\n",
        "l1.shortest_distance(p2)"
      ],
      "metadata": {
        "colab": {
          "base_uri": "https://localhost:8080/"
        },
        "id": "ZtXGZYsydoog",
        "outputId": "7221a58d-bd91-4642-f758-ce9d30c00fe3"
      },
      "execution_count": 33,
      "outputs": [
        {
          "output_type": "stream",
          "name": "stdout",
          "text": [
            "<0,0>\n",
            "<10,10>\n",
            "14.142135623730951\n",
            "14.142135623730951\n",
            "1x+1y+-2=0\n",
            "<1,1>\n",
            "lies on line\n",
            "does not lie on the line\n",
            "does not lie on the line\n"
          ]
        },
        {
          "output_type": "execute_result",
          "data": {
            "text/plain": [
              "3.0"
            ]
          },
          "metadata": {},
          "execution_count": 33
        }
      ]
    },
    {
      "cell_type": "markdown",
      "source": [
        "How object access attributes."
      ],
      "metadata": {
        "id": "G-pXytITmWuR"
      }
    },
    {
      "cell_type": "code",
      "source": [
        "class Person:\n",
        "\n",
        "  def __init__(self,name_input,country_input):\n",
        "    self.name = name_input\n",
        "    self.country = country_input\n",
        "\n",
        "  def greet(self):\n",
        "    if self.country == 'india':\n",
        "      print('Namaste',self.name)\n",
        "    else:\n",
        "      print('Hello',self.name)\n"
      ],
      "metadata": {
        "id": "t1nuRDfmds3C"
      },
      "execution_count": 43,
      "outputs": []
    },
    {
      "cell_type": "code",
      "source": [
        "# how to access attributes\n",
        "p = Person('nitish','india')"
      ],
      "metadata": {
        "id": "OFgnzgDsmZ5S"
      },
      "execution_count": 44,
      "outputs": []
    },
    {
      "cell_type": "code",
      "source": [
        "p.name"
      ],
      "metadata": {
        "colab": {
          "base_uri": "https://localhost:8080/",
          "height": 36
        },
        "id": "2npGOgVzmb4h",
        "outputId": "41c3ddfa-4c46-4eba-a7af-67e283f1507e"
      },
      "execution_count": 45,
      "outputs": [
        {
          "output_type": "execute_result",
          "data": {
            "text/plain": [
              "'nitish'"
            ],
            "application/vnd.google.colaboratory.intrinsic+json": {
              "type": "string"
            }
          },
          "metadata": {},
          "execution_count": 45
        }
      ]
    },
    {
      "cell_type": "code",
      "source": [
        "# how to access methods\n",
        "p.greet()"
      ],
      "metadata": {
        "colab": {
          "base_uri": "https://localhost:8080/"
        },
        "id": "BdTrTergmd_i",
        "outputId": "40da0fbb-f0c5-4db2-9ee0-d63cc912c63e"
      },
      "execution_count": 46,
      "outputs": [
        {
          "output_type": "stream",
          "name": "stdout",
          "text": [
            "Namaste nitish\n"
          ]
        }
      ]
    },
    {
      "cell_type": "code",
      "source": [
        "# what if i try to access non-existent attributes\n",
        "p.gender"
      ],
      "metadata": {
        "colab": {
          "base_uri": "https://localhost:8080/",
          "height": 158
        },
        "id": "XOcRK84_mgiJ",
        "outputId": "3b6afc84-1850-4957-cb50-c52fcdab8a92"
      },
      "execution_count": 47,
      "outputs": [
        {
          "output_type": "error",
          "ename": "AttributeError",
          "evalue": "'Person' object has no attribute 'gender'",
          "traceback": [
            "\u001b[0;31m---------------------------------------------------------------------------\u001b[0m",
            "\u001b[0;31mAttributeError\u001b[0m                            Traceback (most recent call last)",
            "\u001b[0;32m<ipython-input-47-39388d77d830>\u001b[0m in \u001b[0;36m<cell line: 2>\u001b[0;34m()\u001b[0m\n\u001b[1;32m      1\u001b[0m \u001b[0;31m# what if i try to access non-existent attributes\u001b[0m\u001b[0;34m\u001b[0m\u001b[0;34m\u001b[0m\u001b[0m\n\u001b[0;32m----> 2\u001b[0;31m \u001b[0mp\u001b[0m\u001b[0;34m.\u001b[0m\u001b[0mgender\u001b[0m\u001b[0;34m\u001b[0m\u001b[0;34m\u001b[0m\u001b[0m\n\u001b[0m",
            "\u001b[0;31mAttributeError\u001b[0m: 'Person' object has no attribute 'gender'"
          ]
        }
      ]
    },
    {
      "cell_type": "markdown",
      "source": [
        "Attribute creation from outside of the class"
      ],
      "metadata": {
        "id": "50xjlUdkmoJ_"
      }
    },
    {
      "cell_type": "code",
      "source": [
        "p.gender = 'male'"
      ],
      "metadata": {
        "id": "J9CJ6fM5mmcR"
      },
      "execution_count": 48,
      "outputs": []
    },
    {
      "cell_type": "code",
      "source": [
        "p.gender"
      ],
      "metadata": {
        "colab": {
          "base_uri": "https://localhost:8080/",
          "height": 36
        },
        "id": "J3kmvoGBmrS5",
        "outputId": "6df11d29-b9d2-4750-abe9-6c542eefdd9d"
      },
      "execution_count": 49,
      "outputs": [
        {
          "output_type": "execute_result",
          "data": {
            "text/plain": [
              "'male'"
            ],
            "application/vnd.google.colaboratory.intrinsic+json": {
              "type": "string"
            }
          },
          "metadata": {},
          "execution_count": 49
        }
      ]
    },
    {
      "cell_type": "markdown",
      "source": [
        "Reference Variables(object_name)\n",
        "\n",
        "\n",
        "*   Reference variables hold the objects\n",
        "(object_name = class_name()),here object_name stores the address of the class_name\n",
        "*   We can create objects without reference variable as well\n",
        "*   An object can have multiple reference variables\n",
        "*   Assigning a new reference variable to an existing object does not create a new object\n",
        "\n",
        "\n",
        "\n",
        "\n",
        "\n"
      ],
      "metadata": {
        "id": "81_7kGw0nZrU"
      }
    },
    {
      "cell_type": "code",
      "source": [
        "Person('aman','India')"
      ],
      "metadata": {
        "colab": {
          "base_uri": "https://localhost:8080/"
        },
        "id": "gqvCywiWmtyv",
        "outputId": "314a3b74-6707-49b5-bca3-f55bca2cdbe5"
      },
      "execution_count": 52,
      "outputs": [
        {
          "output_type": "execute_result",
          "data": {
            "text/plain": [
              "<__main__.Person at 0x7f47c7fca980>"
            ]
          },
          "metadata": {},
          "execution_count": 52
        }
      ]
    },
    {
      "cell_type": "markdown",
      "source": [
        "Pass by reference"
      ],
      "metadata": {
        "id": "Mwws0vOIq6P7"
      }
    },
    {
      "cell_type": "code",
      "source": [
        "class Person:\n",
        "\n",
        "  def __init__(self,name,gender):\n",
        "    self.name = name\n",
        "    self.gender = gender\n",
        "\n",
        "# outside the class -> function\n",
        "def greet(person):\n",
        "  print('Hi my name is',person.name,'and I am a',person.gender)\n",
        "  p1 = Person('ankit','male')\n",
        "  return p1\n",
        "\n",
        "p = Person('nitish','male')\n",
        "x = greet(p)\n",
        "print(x.name)\n",
        "print(x.gender)"
      ],
      "metadata": {
        "id": "d-nje9N5qX8P",
        "outputId": "ac028809-83db-43ae-91a3-4b1123e77f86",
        "colab": {
          "base_uri": "https://localhost:8080/"
        }
      },
      "execution_count": 53,
      "outputs": [
        {
          "output_type": "stream",
          "name": "stdout",
          "text": [
            "Hi my name is nitish and I am a male\n",
            "ankit\n",
            "male\n"
          ]
        }
      ]
    },
    {
      "cell_type": "code",
      "source": [
        "#whenever we pass a object as an input to a function then it means we send the\n",
        "#reference of the object to the function."
      ],
      "metadata": {
        "id": "S379O1aUrIja"
      },
      "execution_count": 55,
      "outputs": []
    },
    {
      "cell_type": "code",
      "source": [],
      "metadata": {
        "id": "7XjDqVk-rpjK"
      },
      "execution_count": null,
      "outputs": []
    }
  ]
}