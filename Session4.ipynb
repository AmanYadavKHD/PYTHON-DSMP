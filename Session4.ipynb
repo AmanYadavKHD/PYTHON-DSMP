{
  "nbformat": 4,
  "nbformat_minor": 0,
  "metadata": {
    "colab": {
      "provenance": [],
      "authorship_tag": "ABX9TyMJ1z12GXZFKyu9wSgP3AEE",
      "include_colab_link": true
    },
    "kernelspec": {
      "name": "python3",
      "display_name": "Python 3"
    },
    "language_info": {
      "name": "python"
    }
  },
  "cells": [
    {
      "cell_type": "markdown",
      "metadata": {
        "id": "view-in-github",
        "colab_type": "text"
      },
      "source": [
        "<a href=\"https://colab.research.google.com/github/AmanYadavKHD/Machine-Learning/blob/main/Session4.ipynb\" target=\"_parent\"><img src=\"https://colab.research.google.com/assets/colab-badge.svg\" alt=\"Open In Colab\"/></a>"
      ]
    },
    {
      "cell_type": "markdown",
      "source": [
        "LIST COMPREHENSION"
      ],
      "metadata": {
        "id": "qxyb3_vkDjw5"
      }
    },
    {
      "cell_type": "code",
      "execution_count": 2,
      "metadata": {
        "colab": {
          "base_uri": "https://localhost:8080/"
        },
        "id": "VUNyOD--DUht",
        "outputId": "7b5187f9-4c14-4fc0-f505-1483e52d9383"
      },
      "outputs": [
        {
          "output_type": "stream",
          "name": "stdout",
          "text": [
            "[1, 2, 3, 4, 5, 6, 7, 8, 9, 10]\n"
          ]
        }
      ],
      "source": [
        "L = [i for i in range(1,11)]\n",
        "print(L)"
      ]
    },
    {
      "cell_type": "code",
      "source": [
        "#scaler multiplication on vector\n",
        "v=[2,3,4]\n",
        "s=-3\n",
        "x=[]\n",
        "for i in v:\n",
        "  x.append(i*s)\n",
        "print(x)"
      ],
      "metadata": {
        "colab": {
          "base_uri": "https://localhost:8080/"
        },
        "id": "n9bzTebgEWlE",
        "outputId": "b19243cd-7fe8-4665-e0d8-3a4856ea83c9"
      },
      "execution_count": 3,
      "outputs": [
        {
          "output_type": "stream",
          "name": "stdout",
          "text": [
            "[-6, -9, -12]\n"
          ]
        }
      ]
    },
    {
      "cell_type": "code",
      "source": [
        "#instead of following above we can directly do by;\n",
        "\n",
        "x=[s*i for i in v]\n",
        "print(x)"
      ],
      "metadata": {
        "colab": {
          "base_uri": "https://localhost:8080/"
        },
        "id": "va4CoZriFBjN",
        "outputId": "b2c432ae-332f-45f7-c2ba-9e9b34914627"
      },
      "execution_count": 7,
      "outputs": [
        {
          "output_type": "stream",
          "name": "stdout",
          "text": [
            "[-6, -9, -12]\n"
          ]
        }
      ]
    },
    {
      "cell_type": "code",
      "source": [
        "#squares of a list.\n",
        "L=[1,2,3,4,5]\n",
        "[i**2 for i in L]"
      ],
      "metadata": {
        "colab": {
          "base_uri": "https://localhost:8080/"
        },
        "id": "paSjqA1zFUkI",
        "outputId": "006c4c8a-887d-4462-c0f3-7e5881e0285f"
      },
      "execution_count": 8,
      "outputs": [
        {
          "output_type": "execute_result",
          "data": {
            "text/plain": [
              "[1, 4, 9, 16, 25]"
            ]
          },
          "metadata": {},
          "execution_count": 8
        }
      ]
    },
    {
      "cell_type": "code",
      "source": [
        "#print all numbers divisible by 5 in range of 1 to 50\n",
        "[i for i in range(1,51) if i%5==0 ]"
      ],
      "metadata": {
        "colab": {
          "base_uri": "https://localhost:8080/"
        },
        "id": "W0qK6JKQFvFH",
        "outputId": "3e5165f1-cbef-49a3-e540-d84b9d7ff6bc"
      },
      "execution_count": 9,
      "outputs": [
        {
          "output_type": "execute_result",
          "data": {
            "text/plain": [
              "[5, 10, 15, 20, 25, 30, 35, 40, 45, 50]"
            ]
          },
          "metadata": {},
          "execution_count": 9
        }
      ]
    },
    {
      "cell_type": "code",
      "source": [
        "languages = ['English', 'epoiu','Hindi']\n",
        "[i for i in languages if i[0]=='E']"
      ],
      "metadata": {
        "colab": {
          "base_uri": "https://localhost:8080/"
        },
        "id": "bQr9ctCBGmEr",
        "outputId": "c0679ed6-705a-445f-d3bb-20ee0828a72b"
      },
      "execution_count": 11,
      "outputs": [
        {
          "output_type": "execute_result",
          "data": {
            "text/plain": [
              "['English']"
            ]
          },
          "metadata": {},
          "execution_count": 11
        }
      ]
    },
    {
      "cell_type": "code",
      "source": [
        "[[i*j for i in range(1,4)] for j in range (1,4)]"
      ],
      "metadata": {
        "colab": {
          "base_uri": "https://localhost:8080/"
        },
        "id": "3D_VC6ofHcdZ",
        "outputId": "9c4ff595-f01e-4144-8edc-07c0f83cf46d"
      },
      "execution_count": 12,
      "outputs": [
        {
          "output_type": "execute_result",
          "data": {
            "text/plain": [
              "[[1, 2, 3], [2, 4, 6], [3, 6, 9]]"
            ]
          },
          "metadata": {},
          "execution_count": 12
        }
      ]
    },
    {
      "cell_type": "code",
      "source": [
        "L=[2,4,5,3,1]\n",
        "W=[8,6,8]\n",
        "[i*j for i in L for j in W]"
      ],
      "metadata": {
        "colab": {
          "base_uri": "https://localhost:8080/"
        },
        "id": "EVhBWOYQL0ae",
        "outputId": "531964a4-b020-4cd6-d1a2-ba4997a2a431"
      },
      "execution_count": 14,
      "outputs": [
        {
          "output_type": "execute_result",
          "data": {
            "text/plain": [
              "[16, 12, 16, 32, 24, 32, 40, 30, 40, 24, 18, 24, 8, 6, 8]"
            ]
          },
          "metadata": {},
          "execution_count": 14
        }
      ]
    },
    {
      "cell_type": "markdown",
      "source": [
        "ZIP"
      ],
      "metadata": {
        "id": "FruvHx67NIyW"
      }
    },
    {
      "cell_type": "code",
      "source": [
        "L1=[1,2,3,4]\n",
        "L2=[-1,-2,-3,-4]\n",
        "print(list(zip(L1,L2)))\n",
        "[i+j for i,j in zip(L1,L2)]"
      ],
      "metadata": {
        "colab": {
          "base_uri": "https://localhost:8080/"
        },
        "id": "bOhAm6J0MNPQ",
        "outputId": "2bc5c56c-298c-409c-86da-04471f7205ef"
      },
      "execution_count": 17,
      "outputs": [
        {
          "output_type": "stream",
          "name": "stdout",
          "text": [
            "[(1, -1), (2, -2), (3, -3), (4, -4)]\n"
          ]
        },
        {
          "output_type": "execute_result",
          "data": {
            "text/plain": [
              "[0, 0, 0, 0]"
            ]
          },
          "metadata": {},
          "execution_count": 17
        }
      ]
    },
    {
      "cell_type": "code",
      "source": [],
      "metadata": {
        "id": "55kVt9NHNWEf"
      },
      "execution_count": null,
      "outputs": []
    }
  ]
}