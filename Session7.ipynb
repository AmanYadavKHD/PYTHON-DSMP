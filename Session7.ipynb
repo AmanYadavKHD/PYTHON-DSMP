{
  "nbformat": 4,
  "nbformat_minor": 0,
  "metadata": {
    "colab": {
      "provenance": [],
      "authorship_tag": "ABX9TyMHjamnFFmIu4BPzB5uviDN",
      "include_colab_link": true
    },
    "kernelspec": {
      "name": "python3",
      "display_name": "Python 3"
    },
    "language_info": {
      "name": "python"
    }
  },
  "cells": [
    {
      "cell_type": "markdown",
      "metadata": {
        "id": "view-in-github",
        "colab_type": "text"
      },
      "source": [
        "<a href=\"https://colab.research.google.com/github/AmanYadavKHD/Machine-Learning/blob/main/Session7.ipynb\" target=\"_parent\"><img src=\"https://colab.research.google.com/assets/colab-badge.svg\" alt=\"Open In Colab\"/></a>"
      ]
    },
    {
      "cell_type": "code",
      "execution_count": 2,
      "metadata": {
        "colab": {
          "base_uri": "https://localhost:8080/"
        },
        "id": "fTK5vJG_8qqF",
        "outputId": "29b21aef-810b-470f-d609-d1c8c8be286a"
      },
      "outputs": [
        {
          "output_type": "execute_result",
          "data": {
            "text/plain": [
              "[1, 2, 3, 4, 5]"
            ]
          },
          "metadata": {},
          "execution_count": 2
        }
      ],
      "source": [
        "#Syntax to create an object of an class.,\n",
        "#object_name = class_name()\n",
        "L=list([1,2,3,4,5])\n",
        "L"
      ]
    },
    {
      "cell_type": "markdown",
      "source": [
        "Creating ATM Class."
      ],
      "metadata": {
        "id": "VwDeiZmbCksj"
      }
    },
    {
      "cell_type": "markdown",
      "source": [
        "Jab bhi class ke andar koi variables banane hai.\n",
        "\n",
        "1.  Make inside constructor.\n",
        "2.  Put self. in front of the name of the variable.\n",
        "\n"
      ],
      "metadata": {
        "id": "ecwjWYvTEBNT"
      }
    },
    {
      "cell_type": "code",
      "source": [
        "class Atm:\n",
        "\n",
        "  #constructor(It is a special function,we do not need to call the constructor explictily to run code inside it. )\n",
        "  def __init__(self):\n",
        "    self.pin = ' '\n",
        "    self.balance = 100000000000000000000\n",
        "    #print('mai to execute hogya!')\n",
        "    self.menu()\n",
        "  def menu(self):\n",
        "    user_input = input(\"\"\"\n",
        "    Hi! how can i help you?\n",
        "    1. Press 1 to create pin.\n",
        "    2. Press 2 to change pin.\n",
        "    3. Press 3 to chack balance.\n",
        "    4. Press 4 to withdraw.\n",
        "    5. Anything ese to exit.\n",
        "    \"\"\")\n"
      ],
      "metadata": {
        "id": "u2dC2dXKBc1a"
      },
      "execution_count": 11,
      "outputs": []
    },
    {
      "cell_type": "code",
      "source": [
        "#Now we make object of the above class.\n",
        "obj = Atm()\n",
        "print(type(obj))"
      ],
      "metadata": {
        "id": "6Uu7UyO6EgaB"
      },
      "execution_count": null,
      "outputs": []
    },
    {
      "cell_type": "code",
      "source": [],
      "metadata": {
        "id": "TZRhSxSeEuHZ"
      },
      "execution_count": null,
      "outputs": []
    }
  ]
}