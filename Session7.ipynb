{
  "nbformat": 4,
  "nbformat_minor": 0,
  "metadata": {
    "colab": {
      "provenance": [],
      "authorship_tag": "ABX9TyOTeXt/LKHpgRYmaJetjywd",
      "include_colab_link": true
    },
    "kernelspec": {
      "name": "python3",
      "display_name": "Python 3"
    },
    "language_info": {
      "name": "python"
    }
  },
  "cells": [
    {
      "cell_type": "markdown",
      "metadata": {
        "id": "view-in-github",
        "colab_type": "text"
      },
      "source": [
        "<a href=\"https://colab.research.google.com/github/AmanYadavKHD/Machine-Learning/blob/main/Session7.ipynb\" target=\"_parent\"><img src=\"https://colab.research.google.com/assets/colab-badge.svg\" alt=\"Open In Colab\"/></a>"
      ]
    },
    {
      "cell_type": "code",
      "execution_count": null,
      "metadata": {
        "colab": {
          "base_uri": "https://localhost:8080/"
        },
        "id": "fTK5vJG_8qqF",
        "outputId": "29b21aef-810b-470f-d609-d1c8c8be286a"
      },
      "outputs": [
        {
          "output_type": "execute_result",
          "data": {
            "text/plain": [
              "[1, 2, 3, 4, 5]"
            ]
          },
          "metadata": {},
          "execution_count": 2
        }
      ],
      "source": [
        "#Syntax to create an object of an class.,\n",
        "#object_name = class_name()\n",
        "L=list([1,2,3,4,5])\n",
        "L"
      ]
    },
    {
      "cell_type": "markdown",
      "source": [
        "Creating ATM Class."
      ],
      "metadata": {
        "id": "VwDeiZmbCksj"
      }
    },
    {
      "cell_type": "markdown",
      "source": [
        "Jab bhi class ke andar koi variables banane hai.\n",
        "\n",
        "1.  Make inside constructor.\n",
        "2.  Put self. in front of the name of the variable.\n",
        "\n"
      ],
      "metadata": {
        "id": "ecwjWYvTEBNT"
      }
    },
    {
      "cell_type": "code",
      "source": [
        "class Atm:\n",
        "\n",
        "  #constructor(It is a special function,we do not need to call the constructor explictily to run code inside it. )\n",
        "  def __init__(self):\n",
        "    self.pin = '12'\n",
        "    self.balance = 100000000000000000000\n",
        "    #print('mai to execute hogya!')\n",
        "    self.menu()\n",
        "  def menu(self):\n",
        "    user_input = input(\"\"\"\n",
        "    Hi! how can i help you?\n",
        "    1. Press 1 to create pin.\n",
        "    2. Press 2 to change pin.\n",
        "    3. Press 3 to chack balance.\n",
        "    4. Press 4 to withdraw.\n",
        "    5. Anything ese to exit.\n",
        "    \"\"\")\n",
        "    if user_input == '1':\n",
        "      #create pin\n",
        "      self.create_pin()\n",
        "    elif user_input == '2':\n",
        "      #change pin\n",
        "      self.change_pin()\n",
        "    elif user_input == '3':\n",
        "      #Balance Check\n",
        "      self.check_balance()\n",
        "    elif user_input == '4':\n",
        "      #withdraw\n",
        "      self.withdraw()\n",
        "    else:\n",
        "      exit()\n",
        "\n",
        "  def create_pin(self):\n",
        "    user_pin = input('Enter your pin.')\n",
        "    self.pin = user_pin\n",
        "\n",
        "    user_balance = int(input('Enter the balance : '))\n",
        "    self.balance=user_balance\n",
        "\n",
        "    print('Pin created succesfully!')\n",
        "    self.menu()\n",
        "\n",
        "  def change_pin(self):\n",
        "    old_pin = input('Enter the old Pin')\n",
        "    if old_pin==self.pin:\n",
        "      #let him change the pin\n",
        "      new_pin = input('Enter new pin.')\n",
        "      self.pin=new_pin\n",
        "      print('Pin Change Successful!')\n",
        "      self.menu()\n",
        "    else:\n",
        "      print('Galat old pin dala hai!')\n",
        "      self.menu()\n",
        "\n",
        "\n",
        "  def check_balance(self):\n",
        "    user_pin = input('Enter the Pin')\n",
        "    if user_pin == self.pin:\n",
        "      print('Your Balance is ',self.balance)\n",
        "    else:\n",
        "      print('Wrong Pin')\n",
        "    self.menu()\n",
        "\n",
        "  def withdraw(self):\n",
        "    user_pin = input('Enter the pin')\n",
        "    if user_pin == self.pin:\n",
        "      #allow to withdraw\n",
        "      ammount = int(input('Enter the amount to withdraw.'))\n",
        "      if ammount <= self.balance:\n",
        "        self.balance = self.balance-ammount\n",
        "        print('Withdrawl Successful!, balance is',self.balance)\n",
        "      else :\n",
        "        print('Ammount entered is  more than balance!')\n",
        "    else:\n",
        "      print('Incorrect pin.')\n",
        "    self.menu()\n",
        "\n",
        "\n"
      ],
      "metadata": {
        "id": "u2dC2dXKBc1a"
      },
      "execution_count": 2,
      "outputs": []
    },
    {
      "cell_type": "code",
      "source": [
        "#Now we make object of the above class.\n",
        "obj = Atm()"
      ],
      "metadata": {
        "id": "6Uu7UyO6EgaB",
        "colab": {
          "base_uri": "https://localhost:8080/"
        },
        "outputId": "8dd15d17-4735-48e0-fb90-f965ed2a8225"
      },
      "execution_count": 3,
      "outputs": [
        {
          "name": "stdout",
          "output_type": "stream",
          "text": [
            "\n",
            "    Hi! how can i help you?\n",
            "    1. Press 1 to create pin.\n",
            "    2. Press 2 to change pin.\n",
            "    3. Press 3 to chack balance.\n",
            "    4. Press 4 to withdraw.\n",
            "    5. Anything ese to exit.\n",
            "    4\n",
            "Enter the pin12\n",
            "Enter the amount to withdraw.123456789\n",
            "Withdrawl Successful!, balance is 99999999999876543211\n",
            "\n",
            "    Hi! how can i help you?\n",
            "    1. Press 1 to create pin.\n",
            "    2. Press 2 to change pin.\n",
            "    3. Press 3 to chack balance.\n",
            "    4. Press 4 to withdraw.\n",
            "    5. Anything ese to exit.\n",
            "    5\n"
          ]
        }
      ]
    },
    {
      "cell_type": "markdown",
      "source": [
        "Buliding own datatype."
      ],
      "metadata": {
        "id": "kq5qYE57gtZ2"
      }
    },
    {
      "cell_type": "code",
      "source": [
        "class fraction:\n",
        "  #constructor\n",
        "  #parameterized as it expect some input x,y.\n",
        "  def __init__(self,x,y):\n",
        "    self.num=x\n",
        "    self.den=y\n",
        "  def __str__(self):\n",
        "    return '{}/{}'.format(self.num,self.den)\n",
        "  def __add__(self,other):\n",
        "    new_num= self.num*other.den+other.num*self.den\n",
        "    new_den= self.den*other.den\n",
        "\n",
        "    return '{}/{}'.format(new_num,new_den)\n",
        "\n",
        "  def __sub__(self,other):\n",
        "    new_num= self.num*other.den-other.num*self.den\n",
        "    new_den= self.den*other.den\n",
        "\n",
        "    return '{}/{}'.format(new_num,new_den)\n",
        "\n",
        "  def __mul__(self,other):\n",
        "    new_num= self.num*other.num\n",
        "    new_den= self.den*other.den\n",
        "\n",
        "    return '{}/{}'.format(new_num,new_den)\n",
        "\n",
        "  def __truediv__(self,other):\n",
        "    new_num= self.num*other.den\n",
        "    new_den= self.den*other.num\n",
        "\n",
        "    return '{}/{}'.format(new_num,new_den)\n",
        "\n",
        "  def convert_to_decimal(self):\n",
        "    return self.num/self.den"
      ],
      "metadata": {
        "id": "TZRhSxSeEuHZ"
      },
      "execution_count": 35,
      "outputs": []
    },
    {
      "cell_type": "code",
      "source": [
        "fr1 = fraction(3,4)"
      ],
      "metadata": {
        "id": "JwR5jllviAYQ"
      },
      "execution_count": 36,
      "outputs": []
    },
    {
      "cell_type": "code",
      "source": [
        "print(fr1)"
      ],
      "metadata": {
        "id": "xrPlkZSkiD1a",
        "outputId": "059c9283-4674-4aa8-fcca-9ca2c1374a02",
        "colab": {
          "base_uri": "https://localhost:8080/"
        }
      },
      "execution_count": 37,
      "outputs": [
        {
          "output_type": "stream",
          "name": "stdout",
          "text": [
            "3/4\n"
          ]
        }
      ]
    },
    {
      "cell_type": "code",
      "source": [
        "fr2 =fraction(1,2)\n",
        "print(fr1+fr2)\n",
        "print(fr1-fr2)\n",
        "print(fr1*fr2)\n",
        "print(fr1/fr2)\n",
        "fr3 = fraction(6,4)\n",
        "fr3.convert_to_decimal()"
      ],
      "metadata": {
        "id": "TqVDNtQ7jWKW",
        "outputId": "e3a6c5c1-98a1-43dd-a1b2-8bf171aca47f",
        "colab": {
          "base_uri": "https://localhost:8080/"
        }
      },
      "execution_count": 39,
      "outputs": [
        {
          "output_type": "stream",
          "name": "stdout",
          "text": [
            "10/8\n",
            "2/8\n",
            "3/8\n",
            "6/4\n"
          ]
        },
        {
          "output_type": "execute_result",
          "data": {
            "text/plain": [
              "1.5"
            ]
          },
          "metadata": {},
          "execution_count": 39
        }
      ]
    },
    {
      "cell_type": "code",
      "source": [],
      "metadata": {
        "id": "dMOz0xMXkwn9"
      },
      "execution_count": null,
      "outputs": []
    }
  ]
}