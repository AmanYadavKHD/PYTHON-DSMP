{
  "nbformat": 4,
  "nbformat_minor": 0,
  "metadata": {
    "colab": {
      "provenance": [],
      "authorship_tag": "ABX9TyN1wTEjUrL32ZWMNf6O6ohq",
      "include_colab_link": true
    },
    "kernelspec": {
      "name": "python3",
      "display_name": "Python 3"
    },
    "language_info": {
      "name": "python"
    }
  },
  "cells": [
    {
      "cell_type": "markdown",
      "metadata": {
        "id": "view-in-github",
        "colab_type": "text"
      },
      "source": [
        "<a href=\"https://colab.research.google.com/github/AmanYadavKHD/Machine-Learning/blob/main/Session5.ipynb\" target=\"_parent\"><img src=\"https://colab.research.google.com/assets/colab-badge.svg\" alt=\"Open In Colab\"/></a>"
      ]
    },
    {
      "cell_type": "code",
      "execution_count": null,
      "metadata": {
        "colab": {
          "base_uri": "https://localhost:8080/"
        },
        "id": "7T6Rsu8DjAd3",
        "outputId": "3f36681e-ab76-499e-99fc-e16a4d04c6ab"
      },
      "outputs": [
        {
          "output_type": "stream",
          "name": "stdout",
          "text": [
            "(7, 5, 1, 9)\n"
          ]
        }
      ],
      "source": [
        "A=(7,5,1,9)\n",
        "print(A)"
      ]
    },
    {
      "cell_type": "code",
      "source": [
        "\n",
        "{i:{j:i*j for j in range(1,11)} for i in range(2,5)}"
      ],
      "metadata": {
        "id": "8vHjp1XEq1Rt",
        "colab": {
          "base_uri": "https://localhost:8080/"
        },
        "outputId": "2b29041a-fab8-462b-86ce-a211bf2057f0"
      },
      "execution_count": 1,
      "outputs": [
        {
          "output_type": "execute_result",
          "data": {
            "text/plain": [
              "{2: {1: 2, 2: 4, 3: 6, 4: 8, 5: 10, 6: 12, 7: 14, 8: 16, 9: 18, 10: 20},\n",
              " 3: {1: 3, 2: 6, 3: 9, 4: 12, 5: 15, 6: 18, 7: 21, 8: 24, 9: 27, 10: 30},\n",
              " 4: {1: 4, 2: 8, 3: 12, 4: 16, 5: 20, 6: 24, 7: 28, 8: 32, 9: 36, 10: 40}}"
            ]
          },
          "metadata": {},
          "execution_count": 1
        }
      ]
    },
    {
      "cell_type": "code",
      "source": [],
      "metadata": {
        "id": "BD9d3deJUW89"
      },
      "execution_count": null,
      "outputs": []
    }
  ]
}