{
  "nbformat": 4,
  "nbformat_minor": 0,
  "metadata": {
    "colab": {
      "provenance": [],
      "authorship_tag": "ABX9TyPn2CG2nOATtsICBuakM54E",
      "include_colab_link": true
    },
    "kernelspec": {
      "name": "python3",
      "display_name": "Python 3"
    },
    "language_info": {
      "name": "python"
    }
  },
  "cells": [
    {
      "cell_type": "markdown",
      "metadata": {
        "id": "view-in-github",
        "colab_type": "text"
      },
      "source": [
        "<a href=\"https://colab.research.google.com/github/AmanYadavKHD/Machine-Learning/blob/main/Session6.ipynb\" target=\"_parent\"><img src=\"https://colab.research.google.com/assets/colab-badge.svg\" alt=\"Open In Colab\"/></a>"
      ]
    },
    {
      "cell_type": "markdown",
      "source": [
        "Lets CREATE A FUNCTION with docstring."
      ],
      "metadata": {
        "id": "3HMofFXfEoh3"
      }
    },
    {
      "cell_type": "code",
      "execution_count": 3,
      "metadata": {
        "id": "1mC7L_dWC7gj"
      },
      "outputs": [],
      "source": [
        "#Creating function\n",
        "def is_even(num):\n",
        "  \"\"\"\n",
        "  This function return if a given nu,mber is odd or even.\n",
        "  input- any valid integer.\n",
        "  output-odd/even\n",
        "  created on- 23/05/2024\n",
        "  created by- Aman Yadav.\n",
        "  \"\"\"\n",
        "  if type(num)==int:\n",
        "     if num%2==0:\n",
        "      return 'even'\n",
        "     else:\n",
        "      return 'odd'\n",
        "  else:\n",
        "    print('invalid datatype')"
      ]
    },
    {
      "cell_type": "code",
      "source": [
        "#Using function\n",
        "for i in range(1,11):\n",
        "  x=is_even(i)\n",
        "  print(x)"
      ],
      "metadata": {
        "colab": {
          "base_uri": "https://localhost:8080/"
        },
        "id": "BstucSy0Ft9R",
        "outputId": "894bd437-70d2-4bee-dacf-0d7465c614f1"
      },
      "execution_count": 5,
      "outputs": [
        {
          "output_type": "stream",
          "name": "stdout",
          "text": [
            "odd\n",
            "even\n",
            "odd\n",
            "even\n",
            "odd\n",
            "even\n",
            "odd\n",
            "even\n",
            "odd\n",
            "even\n"
          ]
        }
      ]
    },
    {
      "cell_type": "code",
      "source": [
        "#Types of Arguments\n",
        "#Default Argument\n",
        "def power(a=1,b=1):\n",
        "  return a**b"
      ],
      "metadata": {
        "id": "kOsDrEpgF2nN"
      },
      "execution_count": 6,
      "outputs": []
    },
    {
      "cell_type": "code",
      "source": [
        "power(2)"
      ],
      "metadata": {
        "colab": {
          "base_uri": "https://localhost:8080/"
        },
        "id": "L5mvEMaqKpRK",
        "outputId": "bccca466-dec6-4217-f14a-3b672df6bfa5"
      },
      "execution_count": 7,
      "outputs": [
        {
          "output_type": "execute_result",
          "data": {
            "text/plain": [
              "2"
            ]
          },
          "metadata": {},
          "execution_count": 7
        }
      ]
    },
    {
      "cell_type": "code",
      "source": [
        "#positional argument\n",
        "power(2,3)"
      ],
      "metadata": {
        "colab": {
          "base_uri": "https://localhost:8080/"
        },
        "id": "vYJbFy4cKrxn",
        "outputId": "381cb42b-8450-496f-8e58-0a2f946c3076"
      },
      "execution_count": 8,
      "outputs": [
        {
          "output_type": "execute_result",
          "data": {
            "text/plain": [
              "8"
            ]
          },
          "metadata": {},
          "execution_count": 8
        }
      ]
    },
    {
      "cell_type": "markdown",
      "source": [
        "*args and **kwrgs;\n",
        "*args is used to handle various number of inputs.\n",
        "*kwrgs is used to handle"
      ],
      "metadata": {
        "id": "Q7J3LIHPLtBd"
      }
    },
    {
      "cell_type": "code",
      "source": [
        "def multiply(*args):\n",
        "  product=1\n",
        "  for i in args:\n",
        "    product=product*i\n",
        "  return product"
      ],
      "metadata": {
        "id": "nwvByyK8LDeR"
      },
      "execution_count": 11,
      "outputs": []
    },
    {
      "cell_type": "code",
      "source": [
        "multiply(9,8,7,6,5,4,3)"
      ],
      "metadata": {
        "colab": {
          "base_uri": "https://localhost:8080/"
        },
        "id": "C-Z7LE-cMrjb",
        "outputId": "5eb62c21-4164-4406-c06c-31cbc2531146"
      },
      "execution_count": 12,
      "outputs": [
        {
          "output_type": "execute_result",
          "data": {
            "text/plain": [
              "181440"
            ]
          },
          "metadata": {},
          "execution_count": 12
        }
      ]
    },
    {
      "cell_type": "code",
      "source": [
        "#**kwargs allow to pass any no of key-value pairs.\n",
        "def display(**kwargs):\n",
        "  for(key,value) in kwargs.items():\n",
        "    print(key,'->',value)"
      ],
      "metadata": {
        "id": "e5oPFVxxMvMt"
      },
      "execution_count": 13,
      "outputs": []
    },
    {
      "cell_type": "code",
      "source": [
        "display(india='delhi',srilanka='colombo',nepal='katmandu')"
      ],
      "metadata": {
        "colab": {
          "base_uri": "https://localhost:8080/"
        },
        "id": "X0Wxv6WgP-0t",
        "outputId": "79f9b0ba-ab1f-4746-957e-bc00cdae092f"
      },
      "execution_count": 14,
      "outputs": [
        {
          "output_type": "stream",
          "name": "stdout",
          "text": [
            "india -> delhi\n",
            "srilanka -> colombo\n",
            "nepal -> katmandu\n"
          ]
        }
      ]
    },
    {
      "cell_type": "code",
      "source": [
        "#function defalut value of return is None.\n",
        "L=[1,2,3]\n",
        "print(L.append(4))\n",
        "print(L)"
      ],
      "metadata": {
        "colab": {
          "base_uri": "https://localhost:8080/"
        },
        "id": "aaCcwkF3QNSL",
        "outputId": "fb484adb-8317-4f11-c8b2-7c93ab28f52e"
      },
      "execution_count": 17,
      "outputs": [
        {
          "output_type": "stream",
          "name": "stdout",
          "text": [
            "None\n",
            "[1, 2, 3, 4]\n"
          ]
        }
      ]
    },
    {
      "cell_type": "markdown",
      "source": [
        "Variable Scope"
      ],
      "metadata": {
        "id": "XXKpI08SVd34"
      }
    },
    {
      "cell_type": "code",
      "source": [
        "def g(y):\n",
        "  print(x)\n",
        "  print(x+1)\n",
        "x=5\n",
        "g(x)\n",
        "print(x)"
      ],
      "metadata": {
        "colab": {
          "base_uri": "https://localhost:8080/"
        },
        "id": "SyUIX2jzS8e8",
        "outputId": "c5e7b545-15a2-4903-f034-a78b3dc3fda2"
      },
      "execution_count": 18,
      "outputs": [
        {
          "output_type": "stream",
          "name": "stdout",
          "text": [
            "5\n",
            "6\n",
            "5\n"
          ]
        }
      ]
    },
    {
      "cell_type": "code",
      "source": [
        "def f(y):\n",
        "  x=1\n",
        "  x+=1\n",
        "  print(x)\n",
        "x=5\n",
        "f(x)\n",
        "print(x)"
      ],
      "metadata": {
        "colab": {
          "base_uri": "https://localhost:8080/"
        },
        "id": "EaHVvoW5VxMo",
        "outputId": "4923c422-620a-40ad-8fdd-a03194577886"
      },
      "execution_count": 19,
      "outputs": [
        {
          "output_type": "stream",
          "name": "stdout",
          "text": [
            "2\n",
            "5\n"
          ]
        }
      ]
    },
    {
      "cell_type": "code",
      "source": [
        "def h(y):\n",
        "  global x\n",
        "  x+=1\n",
        "x=5\n",
        "h(x)\n",
        "print(x)\n",
        "#we cannot do changes in global variable without using global keyword."
      ],
      "metadata": {
        "colab": {
          "base_uri": "https://localhost:8080/"
        },
        "id": "ObacxtbiWJSj",
        "outputId": "9af14da2-9199-4d31-ebbb-27a4e7551620"
      },
      "execution_count": 21,
      "outputs": [
        {
          "output_type": "stream",
          "name": "stdout",
          "text": [
            "6\n"
          ]
        }
      ]
    },
    {
      "cell_type": "code",
      "source": [
        "def f(x):\n",
        "   x = x + 1\n",
        "   print('in f(x): x =', x)\n",
        "   return x\n",
        "\n",
        "x = 3\n",
        "z = f(x)\n",
        "print('in main program scope: z =', z)\n",
        "print('in main program scope: x =', x)"
      ],
      "metadata": {
        "colab": {
          "base_uri": "https://localhost:8080/"
        },
        "id": "FI4D0V-xWn7J",
        "outputId": "96e54290-ff28-4936-db15-434499d0847c"
      },
      "execution_count": 22,
      "outputs": [
        {
          "output_type": "stream",
          "name": "stdout",
          "text": [
            "in f(x): x = 4\n",
            "in main program scope: z = 4\n",
            "in main program scope: x = 3\n"
          ]
        }
      ]
    },
    {
      "cell_type": "markdown",
      "source": [
        "Functions in python are first class citizens."
      ],
      "metadata": {
        "id": "oOJ2cuWUXx2g"
      }
    },
    {
      "cell_type": "code",
      "source": [
        "def f():\n",
        "    def x(a, b):\n",
        "        return a+b\n",
        "    return x\n",
        "\n",
        "val = f()(3,4)\n",
        "print(val)"
      ],
      "metadata": {
        "colab": {
          "base_uri": "https://localhost:8080/"
        },
        "id": "htRBvRnPXa1j",
        "outputId": "45b2e3f4-0103-4209-c6bc-6ad89790a1e0"
      },
      "execution_count": 23,
      "outputs": [
        {
          "output_type": "stream",
          "name": "stdout",
          "text": [
            "7\n"
          ]
        }
      ]
    },
    {
      "cell_type": "code",
      "source": [
        "def func_a():\n",
        "    print('inside func_a')\n",
        "\n",
        "def func_b(z):\n",
        "    print('inside func_c')\n",
        "    return z()\n",
        "\n",
        "print(func_b(func_a))"
      ],
      "metadata": {
        "colab": {
          "base_uri": "https://localhost:8080/"
        },
        "id": "ngkc_FGVetyf",
        "outputId": "e863925d-72ba-4136-f64c-129cbe8e36cb"
      },
      "execution_count": 24,
      "outputs": [
        {
          "output_type": "stream",
          "name": "stdout",
          "text": [
            "inside func_c\n",
            "inside func_a\n",
            "None\n"
          ]
        }
      ]
    },
    {
      "cell_type": "markdown",
      "source": [
        "HIGHER ORDER FUNCTIONS."
      ],
      "metadata": {
        "id": "SOXzdsrRkpp3"
      }
    },
    {
      "cell_type": "code",
      "source": [
        "def square(x):\n",
        "  return x**2\n",
        "def transform(f,L):\n",
        "  output=[]\n",
        "  for i in L:\n",
        "    output.append(f(i))\n",
        "  print(output)\n",
        "L=[1,2,3,4]\n",
        "transform(square,L)\n",
        "#function in input"
      ],
      "metadata": {
        "colab": {
          "base_uri": "https://localhost:8080/"
        },
        "id": "VY-sGHHtfxk6",
        "outputId": "8a394190-e44f-4dc3-fc04-efbc25728c5f"
      },
      "execution_count": 25,
      "outputs": [
        {
          "output_type": "stream",
          "name": "stdout",
          "text": [
            "[1, 4, 9, 16]\n"
          ]
        }
      ]
    },
    {
      "cell_type": "code",
      "source": [],
      "metadata": {
        "id": "YRsjNAFfkQRX"
      },
      "execution_count": null,
      "outputs": []
    }
  ]
}